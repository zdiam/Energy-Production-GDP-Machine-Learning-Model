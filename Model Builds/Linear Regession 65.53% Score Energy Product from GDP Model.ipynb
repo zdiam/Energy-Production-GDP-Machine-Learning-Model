{
 "cells": [
  {
   "cell_type": "code",
   "execution_count": 31,
   "metadata": {},
   "outputs": [],
   "source": [
    "import pandas as pd\n",
    "import os\n",
    "import numpy as np\n",
    "import matplotlib.pyplot as plt\n",
    "%matplotlib inline"
   ]
  },
  {
   "cell_type": "code",
   "execution_count": 32,
   "metadata": {},
   "outputs": [],
   "source": [
    "dataW = pd.read_csv (r'dataW.csv')"
   ]
  },
  {
   "cell_type": "code",
   "execution_count": 33,
   "metadata": {},
   "outputs": [
    {
     "data": {
      "text/html": [
       "<div>\n",
       "<style scoped>\n",
       "    .dataframe tbody tr th:only-of-type {\n",
       "        vertical-align: middle;\n",
       "    }\n",
       "\n",
       "    .dataframe tbody tr th {\n",
       "        vertical-align: top;\n",
       "    }\n",
       "\n",
       "    .dataframe thead th {\n",
       "        text-align: right;\n",
       "    }\n",
       "</style>\n",
       "<table border=\"1\" class=\"dataframe\">\n",
       "  <thead>\n",
       "    <tr style=\"text-align: right;\">\n",
       "      <th></th>\n",
       "      <th>Country Name</th>\n",
       "      <th>Year</th>\n",
       "      <th>Energy Production Quad BTU</th>\n",
       "      <th>GDP</th>\n",
       "    </tr>\n",
       "  </thead>\n",
       "  <tbody>\n",
       "    <tr>\n",
       "      <th>0</th>\n",
       "      <td>Afghanistan</td>\n",
       "      <td>1980</td>\n",
       "      <td>0.072561</td>\n",
       "      <td>3.641723e+09</td>\n",
       "    </tr>\n",
       "    <tr>\n",
       "      <th>1</th>\n",
       "      <td>Algeria</td>\n",
       "      <td>1980</td>\n",
       "      <td>2.803017</td>\n",
       "      <td>4.234638e+10</td>\n",
       "    </tr>\n",
       "    <tr>\n",
       "      <th>2</th>\n",
       "      <td>Angola</td>\n",
       "      <td>1980</td>\n",
       "      <td>0.335098</td>\n",
       "      <td>5.930503e+09</td>\n",
       "    </tr>\n",
       "    <tr>\n",
       "      <th>3</th>\n",
       "      <td>Argentina</td>\n",
       "      <td>1980</td>\n",
       "      <td>1.597946</td>\n",
       "      <td>7.696192e+10</td>\n",
       "    </tr>\n",
       "    <tr>\n",
       "      <th>4</th>\n",
       "      <td>Australia</td>\n",
       "      <td>1980</td>\n",
       "      <td>3.722297</td>\n",
       "      <td>1.499840e+11</td>\n",
       "    </tr>\n",
       "    <tr>\n",
       "      <th>...</th>\n",
       "      <td>...</td>\n",
       "      <td>...</td>\n",
       "      <td>...</td>\n",
       "      <td>...</td>\n",
       "    </tr>\n",
       "    <tr>\n",
       "      <th>5952</th>\n",
       "      <td>Uzbekistan</td>\n",
       "      <td>2021</td>\n",
       "      <td>1.983724</td>\n",
       "      <td>6.923890e+10</td>\n",
       "    </tr>\n",
       "    <tr>\n",
       "      <th>5953</th>\n",
       "      <td>Vanuatu</td>\n",
       "      <td>2021</td>\n",
       "      <td>0.000116</td>\n",
       "      <td>9.563327e+08</td>\n",
       "    </tr>\n",
       "    <tr>\n",
       "      <th>5954</th>\n",
       "      <td>Vietnam</td>\n",
       "      <td>2021</td>\n",
       "      <td>2.713688</td>\n",
       "      <td>3.661380e+11</td>\n",
       "    </tr>\n",
       "    <tr>\n",
       "      <th>5955</th>\n",
       "      <td>Zambia</td>\n",
       "      <td>2021</td>\n",
       "      <td>0.170076</td>\n",
       "      <td>2.214763e+10</td>\n",
       "    </tr>\n",
       "    <tr>\n",
       "      <th>5956</th>\n",
       "      <td>Zimbabwe</td>\n",
       "      <td>2021</td>\n",
       "      <td>0.116297</td>\n",
       "      <td>2.837124e+10</td>\n",
       "    </tr>\n",
       "  </tbody>\n",
       "</table>\n",
       "<p>5957 rows × 4 columns</p>\n",
       "</div>"
      ],
      "text/plain": [
       "     Country Name  Year  Energy Production Quad BTU           GDP\n",
       "0     Afghanistan  1980                    0.072561  3.641723e+09\n",
       "1         Algeria  1980                    2.803017  4.234638e+10\n",
       "2          Angola  1980                    0.335098  5.930503e+09\n",
       "3       Argentina  1980                    1.597946  7.696192e+10\n",
       "4       Australia  1980                    3.722297  1.499840e+11\n",
       "...           ...   ...                         ...           ...\n",
       "5952   Uzbekistan  2021                    1.983724  6.923890e+10\n",
       "5953      Vanuatu  2021                    0.000116  9.563327e+08\n",
       "5954      Vietnam  2021                    2.713688  3.661380e+11\n",
       "5955       Zambia  2021                    0.170076  2.214763e+10\n",
       "5956     Zimbabwe  2021                    0.116297  2.837124e+10\n",
       "\n",
       "[5957 rows x 4 columns]"
      ]
     },
     "execution_count": 33,
     "metadata": {},
     "output_type": "execute_result"
    }
   ],
   "source": [
    "dataW"
   ]
  },
  {
   "cell_type": "code",
   "execution_count": 34,
   "metadata": {},
   "outputs": [
    {
     "data": {
      "text/plain": [
       "Country Name                   object\n",
       "Year                            int64\n",
       "Energy Production Quad BTU    float64\n",
       "GDP                           float64\n",
       "dtype: object"
      ]
     },
     "execution_count": 34,
     "metadata": {},
     "output_type": "execute_result"
    }
   ],
   "source": [
    "dataW.dtypes"
   ]
  },
  {
   "cell_type": "code",
   "execution_count": 35,
   "metadata": {},
   "outputs": [],
   "source": [
    "from sklearn.linear_model import LinearRegression"
   ]
  },
  {
   "cell_type": "code",
   "execution_count": 36,
   "metadata": {},
   "outputs": [],
   "source": [
    "X = dataW.iloc[:,3].values.reshape(-1,1) #GDP will be X to use predict the Y Energy Production"
   ]
  },
  {
   "cell_type": "code",
   "execution_count": 37,
   "metadata": {},
   "outputs": [
    {
     "data": {
      "text/plain": [
       "array([[3.64172332e+09],\n",
       "       [4.23463808e+10],\n",
       "       [5.93050340e+09],\n",
       "       ...,\n",
       "       [3.66138000e+11],\n",
       "       [2.21476347e+10],\n",
       "       [2.83712387e+10]])"
      ]
     },
     "execution_count": 37,
     "metadata": {},
     "output_type": "execute_result"
    }
   ],
   "source": [
    "X"
   ]
  },
  {
   "cell_type": "code",
   "execution_count": 38,
   "metadata": {},
   "outputs": [
    {
     "data": {
      "text/plain": [
       "(5957, 1)"
      ]
     },
     "execution_count": 38,
     "metadata": {},
     "output_type": "execute_result"
    }
   ],
   "source": [
    "X.shape"
   ]
  },
  {
   "cell_type": "code",
   "execution_count": 39,
   "metadata": {},
   "outputs": [],
   "source": [
    "Y = dataW.iloc[:,2].values.reshape(-1,1) "
   ]
  },
  {
   "cell_type": "code",
   "execution_count": 40,
   "metadata": {},
   "outputs": [
    {
     "data": {
      "text/plain": [
       "array([[0.07256116],\n",
       "       [2.80301736],\n",
       "       [0.33509804],\n",
       "       ...,\n",
       "       [2.7136884 ],\n",
       "       [0.17007611],\n",
       "       [0.11629721]])"
      ]
     },
     "execution_count": 40,
     "metadata": {},
     "output_type": "execute_result"
    }
   ],
   "source": [
    "Y"
   ]
  },
  {
   "cell_type": "code",
   "execution_count": 41,
   "metadata": {},
   "outputs": [
    {
     "data": {
      "text/plain": [
       "(5957, 1)"
      ]
     },
     "execution_count": 41,
     "metadata": {},
     "output_type": "execute_result"
    }
   ],
   "source": [
    "Y.shape"
   ]
  },
  {
   "cell_type": "code",
   "execution_count": 42,
   "metadata": {},
   "outputs": [
    {
     "data": {
      "text/plain": [
       "Text(0, 0.5, 'Energy Production Quad BTU')"
      ]
     },
     "execution_count": 42,
     "metadata": {},
     "output_type": "execute_result"
    },
    {
     "data": {
      "image/png": "[encoded data removed]",
      "text/plain": [
       "<Figure size 640x480 with 1 Axes>"
      ]
     },
     "metadata": {},
     "output_type": "display_data"
    }
   ],
   "source": [
    "plt.scatter(X,Y)\n",
    "plt.xlabel('GDP')\n",
    "plt.ylabel('Energy Production Quad BTU')"
   ]
  },
  {
   "cell_type": "code",
   "execution_count": 43,
   "metadata": {},
   "outputs": [],
   "source": [
    "\n",
    "lr = LinearRegression()\n",
    "modelLR = lr.fit(X,Y)"
   ]
  },
  {
   "cell_type": "code",
   "execution_count": 44,
   "metadata": {},
   "outputs": [],
   "source": [
    "yPredLR = modelLR.predict(X)"
   ]
  },
  {
   "cell_type": "code",
   "execution_count": 45,
   "metadata": {},
   "outputs": [],
   "source": [
    "scoreLR = modelLR.score(X,Y)"
   ]
  },
  {
   "cell_type": "code",
   "execution_count": 46,
   "metadata": {},
   "outputs": [
    {
     "data": {
      "text/plain": [
       "0.6553141113134722"
      ]
     },
     "execution_count": 46,
     "metadata": {},
     "output_type": "execute_result"
    }
   ],
   "source": [
    "scoreLR"
   ]
  },
  {
   "cell_type": "code",
   "execution_count": 47,
   "metadata": {},
   "outputs": [
    {
     "data": {
      "text/plain": [
       "0.8095147381694"
      ]
     },
     "execution_count": 47,
     "metadata": {},
     "output_type": "execute_result"
    }
   ],
   "source": [
    "import math\n",
    "rLR = math.sqrt(scoreLR)\n",
    "rLR"
   ]
  },
  {
   "cell_type": "code",
   "execution_count": 48,
   "metadata": {},
   "outputs": [
    {
     "data": {
      "text/plain": [
       "Text(0, 0.5, 'Energy Production Quad BTU')"
      ]
     },
     "execution_count": 48,
     "metadata": {},
     "output_type": "execute_result"
    },
    {
     "data": {
      "image/png": "[encoded data removed]",
      "text/plain": [
       "<Figure size 640x480 with 1 Axes>"
      ]
     },
     "metadata": {},
     "output_type": "display_data"
    }
   ],
   "source": [
    "plt.scatter(X,Y)\n",
    "plt.plot(X,yPredLR,color='red')\n",
    "plt.xlabel('GDP')\n",
    "plt.ylabel('Energy Production Quad BTU')"
   ]
  },
  {
   "cell_type": "code",
   "execution_count": 49,
   "metadata": {},
   "outputs": [],
   "source": [
    "#Training model"
   ]
  },
  {
   "cell_type": "code",
   "execution_count": 50,
   "metadata": {},
   "outputs": [],
   "source": [
    "from sklearn.model_selection import train_test_split"
   ]
  },
  {
   "cell_type": "code",
   "execution_count": 51,
   "metadata": {},
   "outputs": [],
   "source": [
    "X_train,X_test,Y_train,Y_test = train_test_split(X,Y,test_size=.25,random_state = 4444 )"
   ]
  },
  {
   "cell_type": "code",
   "execution_count": 52,
   "metadata": {},
   "outputs": [
    {
     "data": {
      "text/plain": [
       "(array([[3.64172332e+09],\n",
       "        [4.23463808e+10],\n",
       "        [5.93050340e+09],\n",
       "        ...,\n",
       "        [3.66138000e+11],\n",
       "        [2.21476347e+10],\n",
       "        [2.83712387e+10]]),\n",
       " array([[0.07256116],\n",
       "        [2.80301736],\n",
       "        [0.33509804],\n",
       "        ...,\n",
       "        [2.7136884 ],\n",
       "        [0.17007611],\n",
       "        [0.11629721]]))"
      ]
     },
     "execution_count": 52,
     "metadata": {},
     "output_type": "execute_result"
    }
   ],
   "source": [
    "X,Y"
   ]
  },
  {
   "cell_type": "code",
   "execution_count": 53,
   "metadata": {},
   "outputs": [
    {
     "name": "stdout",
     "output_type": "stream",
     "text": [
      "X Train: \n",
      " [[1.29188557e+10]\n",
      " [6.28191766e+09]\n",
      " [3.78230000e+10]\n",
      " ...\n",
      " [1.72268492e+10]\n",
      " [6.35966548e+10]\n",
      " [1.65021000e+11]]\n",
      "Y Train: \n",
      " [[1.90287557e+00]\n",
      " [5.26817200e-03]\n",
      " [2.16325146e+00]\n",
      " ...\n",
      " [1.40786995e-01]\n",
      " [3.02024902e+00]\n",
      " [7.49824078e+00]]\n",
      "X Test: \n",
      " [[2.70809000e+11]\n",
      " [1.26669000e+11]\n",
      " [3.29353329e+09]\n",
      " ...\n",
      " [5.87799625e+09]\n",
      " [7.55094000e+11]\n",
      " [1.47868616e+10]]\n",
      "Y Test: \n",
      " [[1.49598395e+00]\n",
      " [1.13619958e+00]\n",
      " [1.95489900e-03]\n",
      " ...\n",
      " [1.98380000e-03]\n",
      " [1.28600309e+01]\n",
      " [4.12130850e-02]]\n"
     ]
    }
   ],
   "source": [
    "print('X Train: \\n',X_train)\n",
    "print('Y Train: \\n',Y_train)\n",
    "print('X Test: \\n',X_test)\n",
    "print('Y Test: \\n',Y_test)"
   ]
  },
  {
   "cell_type": "code",
   "execution_count": 54,
   "metadata": {},
   "outputs": [
    {
     "data": {
      "text/plain": [
       "0.6677205723156014"
      ]
     },
     "execution_count": 54,
     "metadata": {},
     "output_type": "execute_result"
    }
   ],
   "source": [
    "modelLR = lr.fit(X_train,Y_train)\n",
    "modelLR.score(X_train,Y_train)"
   ]
  },
  {
   "cell_type": "code",
   "execution_count": 55,
   "metadata": {},
   "outputs": [],
   "source": [
    "Y_train_pred = modelLR.predict(X_train)"
   ]
  },
  {
   "cell_type": "code",
   "execution_count": 56,
   "metadata": {},
   "outputs": [
    {
     "data": {
      "text/plain": [
       "(array([[0.83425875],\n",
       "        [0.79529804],\n",
       "        [0.98045317],\n",
       "        ...,\n",
       "        [0.8595479 ],\n",
       "        [1.13175187],\n",
       "        [1.72714166]]),\n",
       " array([[1.90287557e+00],\n",
       "        [5.26817200e-03],\n",
       "        [2.16325146e+00],\n",
       "        ...,\n",
       "        [1.40786995e-01],\n",
       "        [3.02024902e+00],\n",
       "        [7.49824078e+00]]))"
      ]
     },
     "execution_count": 56,
     "metadata": {},
     "output_type": "execute_result"
    }
   ],
   "source": [
    "Y_train_pred, Y_train"
   ]
  },
  {
   "cell_type": "code",
   "execution_count": 57,
   "metadata": {},
   "outputs": [
    {
     "data": {
      "text/plain": [
       "(array([[2.34814734],\n",
       "        [1.50200449],\n",
       "        [0.77775537],\n",
       "        ...,\n",
       "        [0.7929269 ],\n",
       "        [5.19103821],\n",
       "        [0.84522448]]),\n",
       " array([[1.49598395e+00],\n",
       "        [1.13619958e+00],\n",
       "        [1.95489900e-03],\n",
       "        ...,\n",
       "        [1.98380000e-03],\n",
       "        [1.28600309e+01],\n",
       "        [4.12130850e-02]]))"
      ]
     },
     "execution_count": 57,
     "metadata": {},
     "output_type": "execute_result"
    }
   ],
   "source": [
    "Y_test_pred = modelLR.predict(X_test)\n",
    "Y_test_pred, Y_test"
   ]
  },
  {
   "cell_type": "code",
   "execution_count": 58,
   "metadata": {},
   "outputs": [
    {
     "data": {
      "text/plain": [
       "0.5999294589084099"
      ]
     },
     "execution_count": 58,
     "metadata": {},
     "output_type": "execute_result"
    }
   ],
   "source": [
    "modelLR.score(X_test,Y_test)"
   ]
  },
  {
   "cell_type": "code",
   "execution_count": 59,
   "metadata": {},
   "outputs": [],
   "source": [
    "#~60%"
   ]
  },
  {
   "cell_type": "code",
   "execution_count": 60,
   "metadata": {},
   "outputs": [
    {
     "data": {
      "text/plain": [
       "Text(0, 0.5, 'Energy Production Quad BTU')"
      ]
     },
     "execution_count": 60,
     "metadata": {},
     "output_type": "execute_result"
    },
    {
     "data": {
      "image/png": "[encoded data removed]",
      "text/plain": [
       "<Figure size 640x480 with 1 Axes>"
      ]
     },
     "metadata": {},
     "output_type": "display_data"
    }
   ],
   "source": [
    "plt.scatter(X_test,Y_test)\n",
    "plt.plot(X_test,Y_test_pred,color='red')\n",
    "plt.xlabel('GDP')\n",
    "plt.ylabel('Energy Production Quad BTU')"
   ]
  }
 ],
 "metadata": {
  "kernelspec": {
   "display_name": "base",
   "language": "python",
   "name": "python3"
  },
  "language_info": {
   "codemirror_mode": {
    "name": "ipython",
    "version": 3
   },
   "file_extension": ".py",
   "mimetype": "text/x-python",
   "name": "python",
   "nbconvert_exporter": "python",
   "pygments_lexer": "ipython3",
   "version": "3.9.13"
  },
  "orig_nbformat": 4,
  "vscode": {
   "interpreter": {
    "hash": "372109190dea5f63f1f14f4c7b56cd6f3d2c0f9869deae109884d417dc836e63"
   }
  }
 },
 "nbformat": 4,
 "nbformat_minor": 2
}
